{
 "cells": [
  {
   "cell_type": "markdown",
   "id": "73759867",
   "metadata": {},
   "source": [
    "# Face Detection using Python"
   ]
  },
  {
   "cell_type": "code",
   "execution_count": 30,
   "id": "bd43d6c5",
   "metadata": {},
   "outputs": [],
   "source": [
    "# First you have to install OpenCV using Anaconda Prompt\n",
    "#using the code pip install opencv-python                        #Note:- You should have your internet connected devices\n",
    "#it takes few seconds according to your internet connection\n",
    "#then restart your devices"
   ]
  },
  {
   "cell_type": "code",
   "execution_count": 1,
   "id": "226b2505",
   "metadata": {},
   "outputs": [],
   "source": [
    "import cv2\n",
    "import os\n",
    "\n",
    "cascpath = os.path.dirname(cv2.__file__) + \"/data/haarcascade_frontalface_default.xml\"\n",
    "faceCascade = cv2.CascadeClassifier(cascpath)\n",
    "video_capture = cv2.VideoCapture(0)\n",
    "\n",
    "while True:\n",
    "    ret, frames = video_capture.read()\n",
    "    gray = cv2.cvtColor(frames, cv2.COLOR_BGR2GRAY)\n",
    "    FACES = faceCascade.detectMultiScale(gray, scaleFactor=1.1, minNeighbors=5, minSize=(30, 30), flags=cv2.CASCADE_SCALE_IMAGE)\n",
    "    for (x, y, w, h) in FACES:\n",
    "        cv2.rectangle(frames, (x, y), (x + w, y + h), (0, 255, 0), 2)\n",
    "    cv2.imshow(\"Shubhankar\", frames)\n",
    "    if cv2.waitKey(1) & 0xFF == ord('q'):\n",
    "        break\n",
    "video_capture.release()\n",
    "cv2.destroyAllWindows()\n",
    "#close your video by pressing \"q\""
   ]
  }
 ],
 "metadata": {
  "kernelspec": {
   "display_name": "Python 3 (ipykernel)",
   "language": "python",
   "name": "python3"
  },
  "language_info": {
   "codemirror_mode": {
    "name": "ipython",
    "version": 3
   },
   "file_extension": ".py",
   "mimetype": "text/x-python",
   "name": "python",
   "nbconvert_exporter": "python",
   "pygments_lexer": "ipython3",
   "version": "3.10.9"
  }
 },
 "nbformat": 4,
 "nbformat_minor": 5
}
