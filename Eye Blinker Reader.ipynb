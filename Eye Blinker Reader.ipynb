{
 "cells": [
  {
   "cell_type": "code",
   "execution_count": 10,
   "id": "135b036c",
   "metadata": {},
   "outputs": [
    {
     "name": "stdout",
     "output_type": "stream",
     "text": [
      "Total eye blinks detected: 27\n"
     ]
    }
   ],
   "source": [
    "import cv2\n",
    "\n",
    "def save_blink_count_to_file(count):\n",
    "    with open('blink_count.txt', 'w') as file:\n",
    "        file.write(str(count))\n",
    "\n",
    "def load_blink_count_from_file():\n",
    "    try:\n",
    "        with open('blink_count.txt', 'r') as file:\n",
    "            count = int(file.read())\n",
    "    except FileNotFoundError:\n",
    "        count = 0\n",
    "    return count\n",
    "\n",
    "def detect_eye_blinks():\n",
    "    eye_cascade = cv2.CascadeClassifier(cv2.data.haarcascades + 'haarcascade_eye.xml')\n",
    "    \n",
    "    cap = cv2.VideoCapture(0)  # Use the default camera (change the argument for a specific camera index if needed)\n",
    "    eye_blink_count = load_blink_count_from_file()\n",
    "    prev_eye_state = False\n",
    "    \n",
    "    font = cv2.FONT_HERSHEY_SIMPLEX\n",
    "    font_scale = 1\n",
    "    font_thickness = 2\n",
    "    \n",
    "    while True:\n",
    "        ret, frame = cap.read()\n",
    "        \n",
    "        if not ret:\n",
    "            break\n",
    "        \n",
    "        gray_frame = cv2.cvtColor(frame, cv2.COLOR_BGR2GRAY)\n",
    "        eyes = eye_cascade.detectMultiScale(gray_frame, scaleFactor=1.1, minNeighbors=5)\n",
    "        \n",
    "        eye_state = False\n",
    "        for (ex, ey, ew, eh) in eyes:\n",
    "            eye_roi = gray_frame[ey:ey + eh, ex:ex + ew]\n",
    "            cv2.rectangle(frame, (ex, ey), (ex + ew, ey + eh), (255, 0, 0), 2)\n",
    "            \n",
    "            threshold = 25\n",
    "            _, threshold_eye_roi = cv2.threshold(eye_roi, threshold, 255, cv2.THRESH_BINARY_INV)\n",
    "            eye_pixels = cv2.countNonZero(threshold_eye_roi)\n",
    "            total_pixels = eye_roi.shape[0] * eye_roi.shape[1]\n",
    "            openness_ratio = eye_pixels / total_pixels\n",
    "            \n",
    "            if openness_ratio < 0.2:\n",
    "                eye_state = True\n",
    "                \n",
    "        if prev_eye_state and not eye_state:\n",
    "            eye_blink_count += 1\n",
    "            save_blink_count_to_file(eye_blink_count)\n",
    "            \n",
    "        prev_eye_state = eye_state\n",
    "        \n",
    "        # Display the blink count on the video frame\n",
    "        cv2.putText(frame, f\"Blink Count: {eye_blink_count}\", (30, 50), font, font_scale, (0, 0, 255), font_thickness)\n",
    "        \n",
    "        cv2.imshow('Shubhankar', frame)\n",
    "        \n",
    "        if cv2.waitKey(1) & 0xFF == ord('q'):\n",
    "            break\n",
    "    \n",
    "    cap.release()\n",
    "    cv2.destroyAllWindows()\n",
    "    \n",
    "    return eye_blink_count\n",
    "\n",
    "if __name__ == \"__main__\":\n",
    "    blink_count = detect_eye_blinks()\n",
    "    print(\"Total eye blinks detected:\", blink_count)\n"
   ]
  },
  {
   "cell_type": "code",
   "execution_count": null,
   "id": "e13b1d69",
   "metadata": {},
   "outputs": [],
   "source": []
  }
 ],
 "metadata": {
  "kernelspec": {
   "display_name": "Python 3 (ipykernel)",
   "language": "python",
   "name": "python3"
  },
  "language_info": {
   "codemirror_mode": {
    "name": "ipython",
    "version": 3
   },
   "file_extension": ".py",
   "mimetype": "text/x-python",
   "name": "python",
   "nbconvert_exporter": "python",
   "pygments_lexer": "ipython3",
   "version": "3.10.9"
  }
 },
 "nbformat": 4,
 "nbformat_minor": 5
}
