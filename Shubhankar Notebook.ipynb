{
 "cells": [
  {
   "cell_type": "code",
   "execution_count": 1,
   "id": "d9260f1f",
   "metadata": {},
   "outputs": [],
   "source": [
    "#cell 1"
   ]
  },
  {
   "cell_type": "code",
   "execution_count": 2,
   "id": "109be038",
   "metadata": {},
   "outputs": [],
   "source": [
    "#cell 2"
   ]
  },
  {
   "cell_type": "code",
   "execution_count": 3,
   "id": "bd9d1103",
   "metadata": {},
   "outputs": [],
   "source": [
    "#cell 3"
   ]
  },
  {
   "cell_type": "code",
   "execution_count": 4,
   "id": "7db0e043",
   "metadata": {},
   "outputs": [
    {
     "data": {
      "text/plain": [
       "'\\nthis is multiple line comment\\n'"
      ]
     },
     "execution_count": 4,
     "metadata": {},
     "output_type": "execute_result"
    }
   ],
   "source": [
    "\"\"\"\n",
    "this is multiple line comment\n",
    "\"\"\""
   ]
  },
  {
   "cell_type": "code",
   "execution_count": 6,
   "id": "45bdb070",
   "metadata": {},
   "outputs": [],
   "source": [
    "#cell 4\n",
    "list1=[1,2,3,4]"
   ]
  },
  {
   "cell_type": "code",
   "execution_count": 7,
   "id": "b3df3bdc",
   "metadata": {},
   "outputs": [
    {
     "data": {
      "text/plain": [
       "[1, 2, 3, 4]"
      ]
     },
     "execution_count": 7,
     "metadata": {},
     "output_type": "execute_result"
    }
   ],
   "source": [
    "#to check if list is homo or hetro\n",
    "x=[1,2,3,4]  #condition is homo\n",
    "x"
   ]
  },
  {
   "cell_type": "code",
   "execution_count": 8,
   "id": "9a293ff7",
   "metadata": {},
   "outputs": [
    {
     "data": {
      "text/plain": [
       "[1, 2, 'hello']"
      ]
     },
     "execution_count": 8,
     "metadata": {},
     "output_type": "execute_result"
    }
   ],
   "source": [
    "#to check if list is homo or hetro\n",
    "x=[1,2,\"hello\"] #condition is hetro\n",
    "x\n"
   ]
  },
  {
   "cell_type": "code",
   "execution_count": 9,
   "id": "6b190eed",
   "metadata": {},
   "outputs": [],
   "source": [
    "#dictionary Data type"
   ]
  },
  {
   "cell_type": "code",
   "execution_count": 10,
   "id": "d28c8434",
   "metadata": {},
   "outputs": [
    {
     "name": "stdout",
     "output_type": "stream",
     "text": [
      "50\n",
      "-10\n"
     ]
    }
   ],
   "source": [
    "a=20\n",
    "b=30\n",
    "sum=a+b\n",
    "print (sum)\n",
    "sum=a-b\n",
    "print(sum)"
   ]
  },
  {
   "cell_type": "markdown",
   "id": "d21279f0",
   "metadata": {},
   "source": [
    "# Data Types"
   ]
  },
  {
   "cell_type": "code",
   "execution_count": 19,
   "id": "32ba7cd7",
   "metadata": {},
   "outputs": [],
   "source": [
    "a=1   #number\n",
    "b=1.33   #float\n",
    "c=\"Amity\"  #string\n",
    "d=[1,2,3]  #list\n",
    "e=(1,2, \"hello\")  #tupple\n",
    "f={1:a,2:b}  #dictionary"
   ]
  },
  {
   "cell_type": "code",
   "execution_count": 23,
   "id": "ed3b2aa4",
   "metadata": {
    "scrolled": true
   },
   "outputs": [],
   "source": []
  },
  {
   "cell_type": "markdown",
   "id": "d3d6ae16",
   "metadata": {},
   "source": [
    "# Data manipuation with string"
   ]
  },
  {
   "cell_type": "code",
   "execution_count": 9,
   "id": "4a78542e",
   "metadata": {},
   "outputs": [
    {
     "data": {
      "text/plain": [
       "'YoYo HONEYSINGH'"
      ]
     },
     "execution_count": 9,
     "metadata": {},
     "output_type": "execute_result"
    }
   ],
   "source": [
    "#2 TIME 'YO', FOLLOWED BY HONEY SINGH\n",
    "2*'Yo'+' '+'HONEYSINGH'"
   ]
  },
  {
   "cell_type": "code",
   "execution_count": 10,
   "id": "00a10528",
   "metadata": {},
   "outputs": [
    {
     "ename": "SyntaxError",
     "evalue": "invalid syntax (1633031536.py, line 2)",
     "output_type": "error",
     "traceback": [
      "\u001b[1;36m  Cell \u001b[1;32mIn[10], line 2\u001b[1;36m\u001b[0m\n\u001b[1;33m    prefix 'Science'       #can't concentate a variable and a string\u001b[0m\n\u001b[1;37m           ^\u001b[0m\n\u001b[1;31mSyntaxError\u001b[0m\u001b[1;31m:\u001b[0m invalid syntax\n"
     ]
    }
   ],
   "source": [
    "prefix='Data'\n",
    "prefix 'Science'       #can't concentate a variable and a string"
   ]
  },
  {
   "cell_type": "code",
   "execution_count": 11,
   "id": "38b2f123",
   "metadata": {},
   "outputs": [
    {
     "data": {
      "text/plain": [
       "'DataScience'"
      ]
     },
     "execution_count": 11,
     "metadata": {},
     "output_type": "execute_result"
    }
   ],
   "source": [
    "prefix='Data'\n",
    "prefix+'Science'"
   ]
  },
  {
   "cell_type": "code",
   "execution_count": 12,
   "id": "bacac138",
   "metadata": {},
   "outputs": [
    {
     "data": {
      "text/plain": [
       "'ANANCONDA'"
      ]
     },
     "execution_count": 12,
     "metadata": {},
     "output_type": "execute_result"
    }
   ],
   "source": [
    "'ANAN''CONDA'"
   ]
  },
  {
   "cell_type": "markdown",
   "id": "48f11b9a",
   "metadata": {},
   "source": [
    "# Length of word Pyhton (len)"
   ]
  },
  {
   "cell_type": "code",
   "execution_count": 30,
   "id": "afa4e155",
   "metadata": {},
   "outputs": [
    {
     "name": "stdout",
     "output_type": "stream",
     "text": [
      "Length of the word Python is: 6\n"
     ]
    },
    {
     "data": {
      "text/plain": [
       "'P'"
      ]
     },
     "execution_count": 30,
     "metadata": {},
     "output_type": "execute_result"
    }
   ],
   "source": [
    "word='Python'\n",
    "print(\"Length of the word Python is:\",len(word))     #This gives you 6 \n",
    "\n",
    "word[0]      #This gives you 'n' the last character of the string 'Python'"
   ]
  },
  {
   "cell_type": "markdown",
   "id": "5b61b8e0",
   "metadata": {},
   "source": [
    "# Slicing"
   ]
  },
  {
   "cell_type": "code",
   "execution_count": 22,
   "id": "6754cd0a",
   "metadata": {},
   "outputs": [
    {
     "data": {
      "text/plain": [
       "'Py'"
      ]
     },
     "execution_count": 22,
     "metadata": {},
     "output_type": "execute_result"
    }
   ],
   "source": [
    "word[0:2]"
   ]
  },
  {
   "cell_type": "code",
   "execution_count": 23,
   "id": "623613fa",
   "metadata": {},
   "outputs": [
    {
     "data": {
      "text/plain": [
       "'tho'"
      ]
     },
     "execution_count": 23,
     "metadata": {},
     "output_type": "execute_result"
    }
   ],
   "source": [
    "word[2:5]"
   ]
  },
  {
   "cell_type": "code",
   "execution_count": 25,
   "id": "6fd57a3f",
   "metadata": {},
   "outputs": [
    {
     "data": {
      "text/plain": [
       "'Pyth'"
      ]
     },
     "execution_count": 25,
     "metadata": {},
     "output_type": "execute_result"
    }
   ],
   "source": [
    "word[0:-2]"
   ]
  },
  {
   "cell_type": "code",
   "execution_count": 29,
   "id": "20830584",
   "metadata": {},
   "outputs": [
    {
     "data": {
      "text/plain": [
       "'y'"
      ]
     },
     "execution_count": 29,
     "metadata": {},
     "output_type": "execute_result"
    }
   ],
   "source": [
    "word[-5:-4]"
   ]
  },
  {
   "cell_type": "code",
   "execution_count": 28,
   "id": "b5253edc",
   "metadata": {},
   "outputs": [
    {
     "data": {
      "text/plain": [
       "'yt'"
      ]
     },
     "execution_count": 28,
     "metadata": {},
     "output_type": "execute_result"
    }
   ],
   "source": [
    "word[-5:-3]"
   ]
  },
  {
   "cell_type": "code",
   "execution_count": 31,
   "id": "1d39cd37",
   "metadata": {},
   "outputs": [
    {
     "data": {
      "text/plain": [
       "'thon'"
      ]
     },
     "execution_count": 31,
     "metadata": {},
     "output_type": "execute_result"
    }
   ],
   "source": [
    "word[2:]"
   ]
  },
  {
   "cell_type": "code",
   "execution_count": 32,
   "id": "186ce69e",
   "metadata": {},
   "outputs": [
    {
     "data": {
      "text/plain": [
       "'Py'"
      ]
     },
     "execution_count": 32,
     "metadata": {},
     "output_type": "execute_result"
    }
   ],
   "source": [
    "word[:2]"
   ]
  },
  {
   "cell_type": "markdown",
   "id": "20ba363c",
   "metadata": {},
   "source": [
    "# How to add item in list-method=append"
   ]
  },
  {
   "cell_type": "code",
   "execution_count": 39,
   "id": "5568e9df",
   "metadata": {},
   "outputs": [
    {
     "data": {
      "text/plain": [
       "['a', 'b', 'c', '5', 'boy']"
      ]
     },
     "execution_count": 39,
     "metadata": {},
     "output_type": "execute_result"
    }
   ],
   "source": [
    "a=['a','b','c']\n",
    "a.append('5')\n",
    "a.append('boy')\n",
    "a"
   ]
  },
  {
   "cell_type": "code",
   "execution_count": null,
   "id": "b0b3c029",
   "metadata": {},
   "outputs": [],
   "source": []
  }
 ],
 "metadata": {
  "kernelspec": {
   "display_name": "Python 3 (ipykernel)",
   "language": "python",
   "name": "python3"
  },
  "language_info": {
   "codemirror_mode": {
    "name": "ipython",
    "version": 3
   },
   "file_extension": ".py",
   "mimetype": "text/x-python",
   "name": "python",
   "nbconvert_exporter": "python",
   "pygments_lexer": "ipython3",
   "version": "3.10.9"
  }
 },
 "nbformat": 4,
 "nbformat_minor": 5
}
